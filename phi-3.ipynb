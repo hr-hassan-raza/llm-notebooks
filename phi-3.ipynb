{
 "cells": [
  {
   "cell_type": "markdown",
   "id": "2c36fe8f",
   "metadata": {},
   "source": [
    "##### Experiment with microsoft's Phi-3"
   ]
  },
  {
   "cell_type": "code",
   "execution_count": null,
   "id": "1bd0d5a3",
   "metadata": {},
   "outputs": [],
   "source": [
    "import torch \n",
    "from transformers import AutoModelForCausalLM, AutoTokenizer, pipeline "
   ]
  },
  {
   "cell_type": "code",
   "execution_count": null,
   "id": "a984577e",
   "metadata": {},
   "outputs": [],
   "source": [
    "torch.random.manual_seed(0) \n",
    "model = AutoModelForCausalLM.from_pretrained( \"microsoft/Phi-3-mini-4k-instruct\",  \n",
    "    device_map=\"cuda\",  \n",
    "    torch_dtype=\"auto\",  \n",
    "    trust_remote_code=True,  \n",
    ") \n",
    "tokenizer = AutoTokenizer.from_pretrained(\"microsoft/Phi-3-mini-4k-instruct\") \n"
   ]
  },
  {
   "cell_type": "code",
   "execution_count": null,
   "id": "b292e2ef",
   "metadata": {},
   "outputs": [],
   "source": [
    "messages = [\n",
    "    {\n",
    "        \"role\": \"system\",\n",
    "        \"content\": \"\"\"\n",
    "A chat between a curious user and an artificial intelligence assistant. The Assistant specializes in extracting key-value pairs from text and responds in JSON format only.\n",
    "\n",
    "The User provides text in the format:\n",
    "\n",
    "-------Text begin-------\n",
    "<User provided text>\n",
    "-------Text end-------\n",
    "\n",
    "The Assistant follows these steps before replying to the User:\n",
    "\n",
    "1. **Extract key-value pairs**: The Assistant identifies key-value pairs in the text. Each key represents a distinct concept, and its value provides detailed information about that concept.\n",
    "\n",
    "The Assistant outputs the key-value pairs in the following JSON structure:\n",
    "\n",
    "{\n",
    "    \"type\": \"array\",\n",
    "    \"items\": {\n",
    "        \"type\": \"object\",\n",
    "        \"properties\": {\n",
    "            \"key\": {\"type\": \"string\"},\n",
    "            \"value\": {\"type\": \"string\"}\n",
    "        },\n",
    "        \"required\": [\"key\", \"value\"],\n",
    "        \"additionalProperties\": false\n",
    "    }\n",
    "}\n",
    "\n",
    "The Assistant uses the text between -------Text begin------- and -------Text end------- as the sole input for identifying key-value pairs. It outputs only unique pairs and never repeats the same key.\n",
    "\n",
    "The Assistant responds in JSON format strictly adhering to the schema above.\n",
    "\"\"\"\n",
    "    },\n",
    "    {\n",
    "        \"role\": \"user\",\n",
    "        \"content\": \"\"\"\n",
    "-------Text begin-------\n",
    "My name is Hassan. I am a software engineer.\n",
    "-------Text end-------\n",
    "\"\"\"\n",
    "    }\n",
    "]"
   ]
  },
  {
   "cell_type": "code",
   "execution_count": null,
   "id": "13a03712",
   "metadata": {},
   "outputs": [],
   "source": [
    "pipe = pipeline( \n",
    "    \"text-generation\", \n",
    "    model=model, \n",
    "    tokenizer=tokenizer, \n",
    ") \n",
    "\n",
    "generation_args = { \n",
    "    \"max_new_tokens\": 500, \n",
    "    \"return_full_text\": False, \n",
    "    \"temperature\": 0.0, \n",
    "    \"do_sample\": False, \n",
    "} \n",
    "\n",
    "output = pipe(messages, **generation_args) \n",
    "print(output[0]['generated_text'])"
   ]
  }
 ],
 "metadata": {
  "kernelspec": {
   "display_name": "Python 3 (ipykernel)",
   "language": "python",
   "name": "python3"
  },
  "language_info": {
   "codemirror_mode": {
    "name": "ipython",
    "version": 3
   },
   "file_extension": ".py",
   "mimetype": "text/x-python",
   "name": "python",
   "nbconvert_exporter": "python",
   "pygments_lexer": "ipython3",
   "version": "3.12.7"
  }
 },
 "nbformat": 4,
 "nbformat_minor": 5
}
