{
 "cells": [
  {
   "cell_type": "code",
   "execution_count": null,
   "id": "f997b681",
   "metadata": {},
   "outputs": [],
   "source": [
    "!pip uninstall numpy pandas faiss-cpu cohere langchain transformers sentence-transformers  -y"
   ]
  },
  {
   "cell_type": "code",
   "execution_count": null,
   "id": "04e70212",
   "metadata": {},
   "outputs": [],
   "source": [
    "!pip install cohere\n",
    "!pip install faiss-cpu\n",
    "!pip install numpy pandas\n",
    "!pip install langchain transformers sentence-transformers"
   ]
  },
  {
   "cell_type": "code",
   "execution_count": null,
   "id": "1c28a578",
   "metadata": {},
   "outputs": [],
   "source": [
    "import cohere\n",
    "import numpy as np\n",
    "import pandas as pd\n",
    "import tqdm as tqdm\n",
    "import faiss\n",
    "from langchain import LlamaCpp\n",
    "from langchain.embeddings import HuggingFaceEmbeddings\n",
    "from langchain.vectorstores import FAISS\n",
    "from langchain import PromptTemplate\n",
    "from langchain.chains import RetrievalQA"
   ]
  },
  {
   "cell_type": "code",
   "execution_count": null,
   "id": "9e72f6f1",
   "metadata": {},
   "outputs": [],
   "source": [
    "api_key=''"
   ]
  },
  {
   "cell_type": "code",
   "execution_count": null,
   "id": "a3245382",
   "metadata": {},
   "outputs": [],
   "source": [
    "co = cohere.Client(api_key)"
   ]
  },
  {
   "cell_type": "code",
   "execution_count": null,
   "id": "173565e6",
   "metadata": {},
   "outputs": [],
   "source": [
    "text = \"\"\"\n",
    "Interstellar is a 2014 epic science fiction film co-written,\n",
    "directed, and produced by Christopher Nolan.\n",
    "It stars Matthew McConaughey, Anne Hathaway, Jessica Chastain,\n",
    "Bill Irwin, Ellen Burstyn, Matt Damon, and Michael Caine.\n",
    "Set in a dystopian future where humanity is struggling to\n",
    "survive, the film follows a group of astronauts who travel\n",
    "through a wormhole near Saturn in search of a new home for\n",
    "mankind.\n",
    "Brothers Christopher and Jonathan Nolan wrote the screenplay,\n",
    "which had its origins in a script Jonathan developed in 2007.\n",
    "Caltech theoretical physicist and 2017 Nobel laureate in\n",
    "Physics[4] Kip Thorne was an executive producer, acted as a\n",
    "scientific consultant, and wrote a tie-in book, The Science of\n",
    "Interstellar.\n",
    "Cinematographer Hoyte van Hoytema shot it on 35 mm movie film in\n",
    "the Panavision anamorphic format and IMAX 70 mm.\n",
    "Principal photography began in late 2013 and took place in\n",
    "Alberta, Iceland, and Los Angeles.\n",
    "Interstellar uses extensive practical and miniature effects and\n",
    "the company Double Negative created additional digital effects.\n",
    "Interstellar premiered on October 26, 2014, in Los Angeles.\n",
    "In the United States, it was first released on film stock,\n",
    "expanding to venues using digital projectors.\n",
    "The film had a worldwide gross over $677 million (and $773\n",
    "million with subsequent re-releases), making it the tenth-highest\n",
    "grossing film of 2014.\n",
    "It received acclaim for its performances, direction, screenplay,\n",
    "musical score, visual effects, ambition, themes, and emotional\n",
    "weight.\n",
    "It has also received praise from many astronomers for its\n",
    "scientific accuracy and portrayal of theoretical astrophysics.\n",
    "Since its premiere, Interstellar gained a cult following,[5] and\n",
    "now is regarded by many sci-fi experts as one of the best\n",
    "science-fiction films of all time.\n",
    "Interstellar was nominated for five awards at the 87th Academy\n",
    "Awards, winning Best Visual Effects, and received numerous other\n",
    "accolades\n",
    "\"\"\""
   ]
  },
  {
   "cell_type": "code",
   "execution_count": null,
   "id": "1debd0bb",
   "metadata": {},
   "outputs": [],
   "source": [
    "texts = text.split('.')\n",
    "texts = [t.strip(' \\n') for t in texts]"
   ]
  },
  {
   "cell_type": "code",
   "execution_count": null,
   "id": "02399823",
   "metadata": {},
   "outputs": [],
   "source": [
    "response = co.embed(texts=texts, input_type=\"search_document\").embeddings"
   ]
  },
  {
   "cell_type": "code",
   "execution_count": null,
   "id": "aabe89d3",
   "metadata": {},
   "outputs": [],
   "source": [
    "embeds = np.array(response)\n",
    "print(embeds)"
   ]
  },
  {
   "cell_type": "code",
   "execution_count": null,
   "id": "98c5d30c",
   "metadata": {},
   "outputs": [],
   "source": [
    "embeds = np.array(embeds, dtype=np.float32)\n",
    "dim = embeds.shape[1]\n",
    "index = faiss.IndexFlatL2(dim)\n",
    "print(\"Is index trained?\", index.is_trained)\n",
    "\n",
    "\n",
    "embeds = np.ascontiguousarray(embeds, dtype=np.float32)\n",
    "index.add(embeds)\n",
    "print(\"Number of vectors in the index:\", index.ntotal)"
   ]
  },
  {
   "cell_type": "markdown",
   "id": "6c128d50",
   "metadata": {},
   "source": [
    "##### Desnse Retrieval"
   ]
  },
  {
   "cell_type": "code",
   "execution_count": null,
   "id": "33658d17",
   "metadata": {},
   "outputs": [],
   "source": [
    "def search(query, number_of_results=3):\n",
    "    query_embed = co.embed(texts=[query],input_type=\"search_query\",).embeddings[0]\n",
    "    # 2. Retrieve the nearest neighbors\n",
    "    distances , similar_item_ids = index.search(np.float32([query_embed]), number_of_results)\n",
    "    # 3. Format the results\n",
    "    texts_np = np.array(texts) # Convert texts list to numpy for easier indexing\n",
    "    results = pd.DataFrame(data={'texts': texts_np[similar_item_ids[0]], 'distance': distances[0]})\n",
    "    # 4. Print and return the results\n",
    "    print(f\"Query:'{query}'\\nNearest neighbors:\")\n",
    "    return results"
   ]
  },
  {
   "cell_type": "code",
   "execution_count": null,
   "id": "bad44836",
   "metadata": {},
   "outputs": [],
   "source": [
    "query = \"how precise was the science\"\n",
    "results = search(query)\n",
    "results"
   ]
  },
  {
   "cell_type": "markdown",
   "id": "db557d46",
   "metadata": {},
   "source": [
    "##### Reranking example"
   ]
  },
  {
   "cell_type": "code",
   "execution_count": null,
   "id": "f6714eb3",
   "metadata": {},
   "outputs": [],
   "source": [
    "query=\"How precise was the science\"\n",
    "results=co.rerank(query=query, documents=texts, top_n=3, return_documents=True)\n",
    "results.results"
   ]
  },
  {
   "cell_type": "code",
   "execution_count": null,
   "id": "2072ef39",
   "metadata": {},
   "outputs": [],
   "source": [
    "for idx, result in enumerate(results.results):\n",
    "    print(idx, result.relevance_score , result.document.text)"
   ]
  },
  {
   "cell_type": "markdown",
   "id": "c817db44",
   "metadata": {},
   "source": [
    "##### Retrieval Augmented Generation (RAG)"
   ]
  },
  {
   "cell_type": "code",
   "execution_count": null,
   "id": "4891c82f",
   "metadata": {},
   "outputs": [],
   "source": [
    "query = \"income generated\""
   ]
  },
  {
   "cell_type": "code",
   "execution_count": null,
   "id": "e4fe5ceb",
   "metadata": {},
   "outputs": [],
   "source": [
    "results = search(query)"
   ]
  },
  {
   "cell_type": "code",
   "execution_count": null,
   "id": "1a0a1062",
   "metadata": {},
   "outputs": [],
   "source": [
    "docs_dict = [{\"text\": text} for text in results['texts']]\n",
    "response = co.chat(\n",
    "    message=query,\n",
    "    documents=docs_dict\n",
    ")"
   ]
  },
  {
   "cell_type": "code",
   "execution_count": null,
   "id": "03da9abd",
   "metadata": {},
   "outputs": [],
   "source": [
    "print(response.text)"
   ]
  },
  {
   "cell_type": "markdown",
   "id": "6975e946",
   "metadata": {},
   "source": [
    "##### RAG with local models"
   ]
  },
  {
   "cell_type": "code",
   "execution_count": null,
   "id": "0ad8e4dd",
   "metadata": {},
   "outputs": [],
   "source": [
    "llm = LlamaCpp(\n",
    "    model_path=\"Phi-3-mini-4k-instruct-fp16.gguf\",\n",
    "    n_gpu_layers=-1,\n",
    "    max_tokens=500,\n",
    "    n_ctx=2048,\n",
    "    seed=42,\n",
    "    verbose=False\n",
    ")"
   ]
  },
  {
   "cell_type": "code",
   "execution_count": null,
   "id": "64debf25",
   "metadata": {},
   "outputs": [],
   "source": [
    "!pip show sentence_transformers"
   ]
  },
  {
   "cell_type": "code",
   "execution_count": null,
   "id": "f0470a51",
   "metadata": {},
   "outputs": [],
   "source": [
    "embedding_model = HuggingFaceEmbeddings(model_name='thenlper/gte-small')"
   ]
  },
  {
   "cell_type": "code",
   "execution_count": null,
   "id": "26235a59",
   "metadata": {},
   "outputs": [],
   "source": [
    "db = FAISS.from_texts(texts, embedding_model)"
   ]
  },
  {
   "cell_type": "code",
   "execution_count": null,
   "id": "71d4fad8",
   "metadata": {},
   "outputs": [],
   "source": [
    "template = \"\"\"<|user|>\n",
    "Relevant Information:\n",
    "{context}\n",
    "\n",
    "Provide a concise answer the following question using the \n",
    "relevant information provided above:\n",
    "{question}<|end|>\n",
    "<|assistant|>\n",
    "\"\"\"\n",
    "\n",
    "prompt = PromptTemplate(template=template, input_variables=['context', 'question'])"
   ]
  },
  {
   "cell_type": "code",
   "execution_count": null,
   "id": "40f52fc2",
   "metadata": {},
   "outputs": [],
   "source": [
    "rag = RetrievalQA.form_chain_type(\n",
    "    llm=llm,\n",
    "    chian_type='stuff',\n",
    "    retriever=db.as_retriever(),\n",
    "    chian_type_kwargs={\n",
    "        \"prompt\": prompt\n",
    "    },\n",
    "    verbose=True\n",
    ")"
   ]
  },
  {
   "cell_type": "code",
   "execution_count": null,
   "id": "f138bc72",
   "metadata": {},
   "outputs": [],
   "source": [
    "rag.invoke('Income generated')"
   ]
  }
 ],
 "metadata": {
  "kernelspec": {
   "display_name": "Python 3 (ipykernel)",
   "language": "python",
   "name": "python3"
  },
  "language_info": {
   "codemirror_mode": {
    "name": "ipython",
    "version": 3
   },
   "file_extension": ".py",
   "mimetype": "text/x-python",
   "name": "python",
   "nbconvert_exporter": "python",
   "pygments_lexer": "ipython3",
   "version": "3.11.4"
  }
 },
 "nbformat": 4,
 "nbformat_minor": 5
}
