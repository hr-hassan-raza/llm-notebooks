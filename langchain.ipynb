{
 "cells": [
  {
   "cell_type": "code",
   "execution_count": 24,
   "id": "d7ec685e",
   "metadata": {},
   "outputs": [
    {
     "name": "stdout",
     "output_type": "stream",
     "text": [
      "Requirement already satisfied: langchain-community in /Users/hassanraza/anaconda3/lib/python3.11/site-packages (0.3.14)\n",
      "Requirement already satisfied: langchain-core in /Users/hassanraza/anaconda3/lib/python3.11/site-packages (0.3.30)\n",
      "Requirement already satisfied: PyYAML>=5.3 in /Users/hassanraza/anaconda3/lib/python3.11/site-packages (from langchain-community) (6.0)\n",
      "Requirement already satisfied: SQLAlchemy<3,>=1.4 in /Users/hassanraza/anaconda3/lib/python3.11/site-packages (from langchain-community) (1.4.39)\n",
      "Requirement already satisfied: aiohttp<4.0.0,>=3.8.3 in /Users/hassanraza/anaconda3/lib/python3.11/site-packages (from langchain-community) (3.8.3)\n",
      "Requirement already satisfied: dataclasses-json<0.7,>=0.5.7 in /Users/hassanraza/anaconda3/lib/python3.11/site-packages (from langchain-community) (0.6.7)\n",
      "Requirement already satisfied: httpx-sse<0.5.0,>=0.4.0 in /Users/hassanraza/anaconda3/lib/python3.11/site-packages (from langchain-community) (0.4.0)\n",
      "Requirement already satisfied: langchain<0.4.0,>=0.3.14 in /Users/hassanraza/anaconda3/lib/python3.11/site-packages (from langchain-community) (0.3.14)\n",
      "Requirement already satisfied: langsmith<0.3,>=0.1.125 in /Users/hassanraza/anaconda3/lib/python3.11/site-packages (from langchain-community) (0.2.11)\n",
      "Requirement already satisfied: numpy<2,>=1.22.4 in /Users/hassanraza/anaconda3/lib/python3.11/site-packages (from langchain-community) (1.24.3)\n",
      "Requirement already satisfied: pydantic-settings<3.0.0,>=2.4.0 in /Users/hassanraza/anaconda3/lib/python3.11/site-packages (from langchain-community) (2.7.1)\n",
      "Requirement already satisfied: requests<3,>=2 in /Users/hassanraza/anaconda3/lib/python3.11/site-packages (from langchain-community) (2.31.0)\n",
      "Requirement already satisfied: tenacity!=8.4.0,<10,>=8.1.0 in /Users/hassanraza/anaconda3/lib/python3.11/site-packages (from langchain-community) (8.2.2)\n",
      "Requirement already satisfied: jsonpatch<2.0,>=1.33 in /Users/hassanraza/anaconda3/lib/python3.11/site-packages (from langchain-core) (1.33)\n",
      "Requirement already satisfied: packaging<25,>=23.2 in /Users/hassanraza/anaconda3/lib/python3.11/site-packages (from langchain-core) (24.2)\n",
      "Requirement already satisfied: pydantic<3.0.0,>=2.5.2 in /Users/hassanraza/anaconda3/lib/python3.11/site-packages (from langchain-core) (2.10.5)\n",
      "Requirement already satisfied: typing-extensions>=4.7 in /Users/hassanraza/anaconda3/lib/python3.11/site-packages (from langchain-core) (4.12.2)\n",
      "Requirement already satisfied: attrs>=17.3.0 in /Users/hassanraza/anaconda3/lib/python3.11/site-packages (from aiohttp<4.0.0,>=3.8.3->langchain-community) (22.1.0)\n",
      "Requirement already satisfied: charset-normalizer<3.0,>=2.0 in /Users/hassanraza/anaconda3/lib/python3.11/site-packages (from aiohttp<4.0.0,>=3.8.3->langchain-community) (2.0.4)\n",
      "Requirement already satisfied: multidict<7.0,>=4.5 in /Users/hassanraza/anaconda3/lib/python3.11/site-packages (from aiohttp<4.0.0,>=3.8.3->langchain-community) (6.0.2)\n",
      "Requirement already satisfied: async-timeout<5.0,>=4.0.0a3 in /Users/hassanraza/anaconda3/lib/python3.11/site-packages (from aiohttp<4.0.0,>=3.8.3->langchain-community) (4.0.2)\n",
      "Requirement already satisfied: yarl<2.0,>=1.0 in /Users/hassanraza/anaconda3/lib/python3.11/site-packages (from aiohttp<4.0.0,>=3.8.3->langchain-community) (1.8.1)\n",
      "Requirement already satisfied: frozenlist>=1.1.1 in /Users/hassanraza/anaconda3/lib/python3.11/site-packages (from aiohttp<4.0.0,>=3.8.3->langchain-community) (1.3.3)\n",
      "Requirement already satisfied: aiosignal>=1.1.2 in /Users/hassanraza/anaconda3/lib/python3.11/site-packages (from aiohttp<4.0.0,>=3.8.3->langchain-community) (1.2.0)\n",
      "Requirement already satisfied: marshmallow<4.0.0,>=3.18.0 in /Users/hassanraza/anaconda3/lib/python3.11/site-packages (from dataclasses-json<0.7,>=0.5.7->langchain-community) (3.25.1)\n",
      "Requirement already satisfied: typing-inspect<1,>=0.4.0 in /Users/hassanraza/anaconda3/lib/python3.11/site-packages (from dataclasses-json<0.7,>=0.5.7->langchain-community) (0.9.0)\n",
      "Requirement already satisfied: jsonpointer>=1.9 in /Users/hassanraza/anaconda3/lib/python3.11/site-packages (from jsonpatch<2.0,>=1.33->langchain-core) (2.1)\n",
      "Requirement already satisfied: langchain-text-splitters<0.4.0,>=0.3.3 in /Users/hassanraza/anaconda3/lib/python3.11/site-packages (from langchain<0.4.0,>=0.3.14->langchain-community) (0.3.5)\n",
      "Requirement already satisfied: httpx<1,>=0.23.0 in /Users/hassanraza/anaconda3/lib/python3.11/site-packages (from langsmith<0.3,>=0.1.125->langchain-community) (0.27.0)\n",
      "Requirement already satisfied: orjson<4.0.0,>=3.9.14 in /Users/hassanraza/anaconda3/lib/python3.11/site-packages (from langsmith<0.3,>=0.1.125->langchain-community) (3.10.15)\n",
      "Requirement already satisfied: requests-toolbelt<2.0.0,>=1.0.0 in /Users/hassanraza/anaconda3/lib/python3.11/site-packages (from langsmith<0.3,>=0.1.125->langchain-community) (1.0.0)\n",
      "Requirement already satisfied: annotated-types>=0.6.0 in /Users/hassanraza/anaconda3/lib/python3.11/site-packages (from pydantic<3.0.0,>=2.5.2->langchain-core) (0.6.0)\n",
      "Requirement already satisfied: pydantic-core==2.27.2 in /Users/hassanraza/anaconda3/lib/python3.11/site-packages (from pydantic<3.0.0,>=2.5.2->langchain-core) (2.27.2)\n",
      "Requirement already satisfied: python-dotenv>=0.21.0 in /Users/hassanraza/anaconda3/lib/python3.11/site-packages (from pydantic-settings<3.0.0,>=2.4.0->langchain-community) (1.0.1)\n",
      "Requirement already satisfied: idna<4,>=2.5 in /Users/hassanraza/anaconda3/lib/python3.11/site-packages (from requests<3,>=2->langchain-community) (3.4)\n",
      "Requirement already satisfied: urllib3<3,>=1.21.1 in /Users/hassanraza/anaconda3/lib/python3.11/site-packages (from requests<3,>=2->langchain-community) (1.26.16)\n",
      "Requirement already satisfied: certifi>=2017.4.17 in /Users/hassanraza/anaconda3/lib/python3.11/site-packages (from requests<3,>=2->langchain-community) (2023.7.22)\n",
      "Requirement already satisfied: anyio in /Users/hassanraza/anaconda3/lib/python3.11/site-packages (from httpx<1,>=0.23.0->langsmith<0.3,>=0.1.125->langchain-community) (3.5.0)\n",
      "Requirement already satisfied: httpcore==1.* in /Users/hassanraza/anaconda3/lib/python3.11/site-packages (from httpx<1,>=0.23.0->langsmith<0.3,>=0.1.125->langchain-community) (1.0.4)\n",
      "Requirement already satisfied: sniffio in /Users/hassanraza/anaconda3/lib/python3.11/site-packages (from httpx<1,>=0.23.0->langsmith<0.3,>=0.1.125->langchain-community) (1.2.0)\n",
      "Requirement already satisfied: h11<0.15,>=0.13 in /Users/hassanraza/anaconda3/lib/python3.11/site-packages (from httpcore==1.*->httpx<1,>=0.23.0->langsmith<0.3,>=0.1.125->langchain-community) (0.14.0)\n",
      "Requirement already satisfied: mypy-extensions>=0.3.0 in /Users/hassanraza/anaconda3/lib/python3.11/site-packages (from typing-inspect<1,>=0.4.0->dataclasses-json<0.7,>=0.5.7->langchain-community) (0.4.3)\n",
      "Requirement already satisfied: llama-cpp-python in /Users/hassanraza/anaconda3/lib/python3.11/site-packages (0.3.6)\n",
      "Requirement already satisfied: typing-extensions>=4.5.0 in /Users/hassanraza/anaconda3/lib/python3.11/site-packages (from llama-cpp-python) (4.12.2)\n",
      "Requirement already satisfied: numpy>=1.20.0 in /Users/hassanraza/anaconda3/lib/python3.11/site-packages (from llama-cpp-python) (1.24.3)\n",
      "Requirement already satisfied: diskcache>=5.6.1 in /Users/hassanraza/anaconda3/lib/python3.11/site-packages (from llama-cpp-python) (5.6.3)\n",
      "Requirement already satisfied: jinja2>=2.11.3 in /Users/hassanraza/anaconda3/lib/python3.11/site-packages (from llama-cpp-python) (3.1.2)\n",
      "Requirement already satisfied: MarkupSafe>=2.0 in /Users/hassanraza/anaconda3/lib/python3.11/site-packages (from jinja2>=2.11.3->llama-cpp-python) (2.1.1)\n",
      "Requirement already satisfied: langchain in /Users/hassanraza/anaconda3/lib/python3.11/site-packages (0.3.14)\n",
      "Requirement already satisfied: PyYAML>=5.3 in /Users/hassanraza/anaconda3/lib/python3.11/site-packages (from langchain) (6.0)\n",
      "Requirement already satisfied: SQLAlchemy<3,>=1.4 in /Users/hassanraza/anaconda3/lib/python3.11/site-packages (from langchain) (1.4.39)\n",
      "Requirement already satisfied: aiohttp<4.0.0,>=3.8.3 in /Users/hassanraza/anaconda3/lib/python3.11/site-packages (from langchain) (3.8.3)\n",
      "Requirement already satisfied: langchain-core<0.4.0,>=0.3.29 in /Users/hassanraza/anaconda3/lib/python3.11/site-packages (from langchain) (0.3.30)\n",
      "Requirement already satisfied: langchain-text-splitters<0.4.0,>=0.3.3 in /Users/hassanraza/anaconda3/lib/python3.11/site-packages (from langchain) (0.3.5)\n",
      "Requirement already satisfied: langsmith<0.3,>=0.1.17 in /Users/hassanraza/anaconda3/lib/python3.11/site-packages (from langchain) (0.2.11)\n",
      "Requirement already satisfied: numpy<2,>=1.22.4 in /Users/hassanraza/anaconda3/lib/python3.11/site-packages (from langchain) (1.24.3)\n",
      "Requirement already satisfied: pydantic<3.0.0,>=2.7.4 in /Users/hassanraza/anaconda3/lib/python3.11/site-packages (from langchain) (2.10.5)\n",
      "Requirement already satisfied: requests<3,>=2 in /Users/hassanraza/anaconda3/lib/python3.11/site-packages (from langchain) (2.31.0)\n",
      "Requirement already satisfied: tenacity!=8.4.0,<10,>=8.1.0 in /Users/hassanraza/anaconda3/lib/python3.11/site-packages (from langchain) (8.2.2)\n",
      "Requirement already satisfied: attrs>=17.3.0 in /Users/hassanraza/anaconda3/lib/python3.11/site-packages (from aiohttp<4.0.0,>=3.8.3->langchain) (22.1.0)\n",
      "Requirement already satisfied: charset-normalizer<3.0,>=2.0 in /Users/hassanraza/anaconda3/lib/python3.11/site-packages (from aiohttp<4.0.0,>=3.8.3->langchain) (2.0.4)\n",
      "Requirement already satisfied: multidict<7.0,>=4.5 in /Users/hassanraza/anaconda3/lib/python3.11/site-packages (from aiohttp<4.0.0,>=3.8.3->langchain) (6.0.2)\n",
      "Requirement already satisfied: async-timeout<5.0,>=4.0.0a3 in /Users/hassanraza/anaconda3/lib/python3.11/site-packages (from aiohttp<4.0.0,>=3.8.3->langchain) (4.0.2)\n",
      "Requirement already satisfied: yarl<2.0,>=1.0 in /Users/hassanraza/anaconda3/lib/python3.11/site-packages (from aiohttp<4.0.0,>=3.8.3->langchain) (1.8.1)\n",
      "Requirement already satisfied: frozenlist>=1.1.1 in /Users/hassanraza/anaconda3/lib/python3.11/site-packages (from aiohttp<4.0.0,>=3.8.3->langchain) (1.3.3)\n",
      "Requirement already satisfied: aiosignal>=1.1.2 in /Users/hassanraza/anaconda3/lib/python3.11/site-packages (from aiohttp<4.0.0,>=3.8.3->langchain) (1.2.0)\n",
      "Requirement already satisfied: jsonpatch<2.0,>=1.33 in /Users/hassanraza/anaconda3/lib/python3.11/site-packages (from langchain-core<0.4.0,>=0.3.29->langchain) (1.33)\n",
      "Requirement already satisfied: packaging<25,>=23.2 in /Users/hassanraza/anaconda3/lib/python3.11/site-packages (from langchain-core<0.4.0,>=0.3.29->langchain) (24.2)\n",
      "Requirement already satisfied: typing-extensions>=4.7 in /Users/hassanraza/anaconda3/lib/python3.11/site-packages (from langchain-core<0.4.0,>=0.3.29->langchain) (4.12.2)\n",
      "Requirement already satisfied: httpx<1,>=0.23.0 in /Users/hassanraza/anaconda3/lib/python3.11/site-packages (from langsmith<0.3,>=0.1.17->langchain) (0.27.0)\n",
      "Requirement already satisfied: orjson<4.0.0,>=3.9.14 in /Users/hassanraza/anaconda3/lib/python3.11/site-packages (from langsmith<0.3,>=0.1.17->langchain) (3.10.15)\n",
      "Requirement already satisfied: requests-toolbelt<2.0.0,>=1.0.0 in /Users/hassanraza/anaconda3/lib/python3.11/site-packages (from langsmith<0.3,>=0.1.17->langchain) (1.0.0)\n",
      "Requirement already satisfied: annotated-types>=0.6.0 in /Users/hassanraza/anaconda3/lib/python3.11/site-packages (from pydantic<3.0.0,>=2.7.4->langchain) (0.6.0)\n",
      "Requirement already satisfied: pydantic-core==2.27.2 in /Users/hassanraza/anaconda3/lib/python3.11/site-packages (from pydantic<3.0.0,>=2.7.4->langchain) (2.27.2)\n",
      "Requirement already satisfied: idna<4,>=2.5 in /Users/hassanraza/anaconda3/lib/python3.11/site-packages (from requests<3,>=2->langchain) (3.4)\n",
      "Requirement already satisfied: urllib3<3,>=1.21.1 in /Users/hassanraza/anaconda3/lib/python3.11/site-packages (from requests<3,>=2->langchain) (1.26.16)\n",
      "Requirement already satisfied: certifi>=2017.4.17 in /Users/hassanraza/anaconda3/lib/python3.11/site-packages (from requests<3,>=2->langchain) (2023.7.22)\n"
     ]
    },
    {
     "name": "stdout",
     "output_type": "stream",
     "text": [
      "Requirement already satisfied: anyio in /Users/hassanraza/anaconda3/lib/python3.11/site-packages (from httpx<1,>=0.23.0->langsmith<0.3,>=0.1.17->langchain) (3.5.0)\r\n",
      "Requirement already satisfied: httpcore==1.* in /Users/hassanraza/anaconda3/lib/python3.11/site-packages (from httpx<1,>=0.23.0->langsmith<0.3,>=0.1.17->langchain) (1.0.4)\r\n",
      "Requirement already satisfied: sniffio in /Users/hassanraza/anaconda3/lib/python3.11/site-packages (from httpx<1,>=0.23.0->langsmith<0.3,>=0.1.17->langchain) (1.2.0)\r\n",
      "Requirement already satisfied: h11<0.15,>=0.13 in /Users/hassanraza/anaconda3/lib/python3.11/site-packages (from httpcore==1.*->httpx<1,>=0.23.0->langsmith<0.3,>=0.1.17->langchain) (0.14.0)\r\n",
      "Requirement already satisfied: jsonpointer>=1.9 in /Users/hassanraza/anaconda3/lib/python3.11/site-packages (from jsonpatch<2.0,>=1.33->langchain-core<0.4.0,>=0.3.29->langchain) (2.1)\r\n"
     ]
    }
   ],
   "source": [
    "!pip install langchain-community langchain-core\n",
    "!pip install llama-cpp-python\n",
    "!pip install langchain"
   ]
  },
  {
   "cell_type": "code",
   "execution_count": 31,
   "id": "74177627",
   "metadata": {},
   "outputs": [],
   "source": [
    "from langchain import LlamaCpp, LLMChain, PromptTemplate\n",
    "from langchain.memory import ConversationBufferMemory, ConversationSummaryMemory"
   ]
  },
  {
   "cell_type": "code",
   "execution_count": 32,
   "id": "61105afa",
   "metadata": {},
   "outputs": [
    {
     "name": "stderr",
     "output_type": "stream",
     "text": [
      "llama_new_context_with_model: n_batch is less than GGML_KQ_MASK_PAD - increasing to 32\n",
      "llama_new_context_with_model: n_ctx_per_seq (2048) < n_ctx_train (4096) -- the full capacity of the model will not be utilized\n",
      "ggml_metal_init: skipping kernel_get_rows_bf16                     (not supported)\n",
      "ggml_metal_init: skipping kernel_mul_mv_bf16_f32                   (not supported)\n",
      "ggml_metal_init: skipping kernel_mul_mv_bf16_f32_1row              (not supported)\n",
      "ggml_metal_init: skipping kernel_mul_mv_bf16_f32_l4                (not supported)\n",
      "ggml_metal_init: skipping kernel_mul_mv_bf16_bf16                  (not supported)\n",
      "ggml_metal_init: skipping kernel_mul_mv_id_bf16_f32                (not supported)\n",
      "ggml_metal_init: skipping kernel_mul_mm_bf16_f32                   (not supported)\n",
      "ggml_metal_init: skipping kernel_mul_mm_id_bf16_f32                (not supported)\n",
      "ggml_metal_init: skipping kernel_flash_attn_ext_bf16_h64           (not supported)\n",
      "ggml_metal_init: skipping kernel_flash_attn_ext_bf16_h80           (not supported)\n",
      "ggml_metal_init: skipping kernel_flash_attn_ext_bf16_h96           (not supported)\n",
      "ggml_metal_init: skipping kernel_flash_attn_ext_bf16_h112          (not supported)\n",
      "ggml_metal_init: skipping kernel_flash_attn_ext_bf16_h128          (not supported)\n",
      "ggml_metal_init: skipping kernel_flash_attn_ext_bf16_h256          (not supported)\n",
      "ggml_metal_init: skipping kernel_flash_attn_ext_vec_bf16_h128      (not supported)\n",
      "ggml_metal_init: skipping kernel_flash_attn_ext_vec_bf16_h256      (not supported)\n",
      "ggml_metal_init: skipping kernel_cpy_f32_bf16                      (not supported)\n",
      "ggml_metal_init: skipping kernel_cpy_bf16_f32                      (not supported)\n",
      "ggml_metal_init: skipping kernel_cpy_bf16_bf16                     (not supported)\n"
     ]
    }
   ],
   "source": [
    "llm = LlamaCpp(model_path=\"Phi-3-mini-4k-instruct-fp16.gguf\", \n",
    "               n_gpu_layers=-1, \n",
    "               max_tokens=500, \n",
    "               n_ctx=2048, \n",
    "               seed=42,\n",
    "               verbose=False\n",
    ")"
   ]
  },
  {
   "cell_type": "code",
   "execution_count": 33,
   "id": "3c7e39e0",
   "metadata": {},
   "outputs": [],
   "source": [
    "template = \"\"\"<s><|user|>\n",
    "{input_prompt}<|end|>\n",
    "<|assistant|>\n",
    "\"\"\"\n",
    "prompt = PromptTemplate(\n",
    "    template=template,\n",
    "    input_variables=[\"input_prompt\"]\n",
    ")"
   ]
  },
  {
   "cell_type": "code",
   "execution_count": 34,
   "id": "071b0422",
   "metadata": {},
   "outputs": [],
   "source": [
    "basic_chain = prompt | llm"
   ]
  },
  {
   "cell_type": "code",
   "execution_count": 35,
   "id": "bb357300",
   "metadata": {},
   "outputs": [
    {
     "name": "stderr",
     "output_type": "stream",
     "text": [
      "/Users/hassanraza/anaconda3/lib/python3.11/site-packages/llama_cpp/llama.py:1237: RuntimeWarning: Detected duplicate leading \"<s>\" in prompt, this will likely reduce response quality, consider removing it...\n",
      "  warnings.warn(\n"
     ]
    },
    {
     "data": {
      "text/plain": [
       "\" 1 + 1 equals 2. It's a basic arithmetic addition problem!\""
      ]
     },
     "execution_count": 35,
     "metadata": {},
     "output_type": "execute_result"
    }
   ],
   "source": [
    "basic_chain.invoke({\n",
    "    'input_prompt': 'Hi, My name is Hassan. What is 1 + 1 ?'\n",
    "})"
   ]
  },
  {
   "cell_type": "markdown",
   "id": "74c5343a",
   "metadata": {},
   "source": [
    "##### Multiple Prompts"
   ]
  },
  {
   "cell_type": "code",
   "execution_count": 36,
   "id": "d59d2282",
   "metadata": {},
   "outputs": [
    {
     "name": "stderr",
     "output_type": "stream",
     "text": [
      "/var/folders/_b/drkg0vjx1v368n_9th3dhc7c0000gn/T/ipykernel_6173/4226334221.py:7: LangChainDeprecationWarning: The class `LLMChain` was deprecated in LangChain 0.1.17 and will be removed in 1.0. Use :meth:`~RunnableSequence, e.g., `prompt | llm`` instead.\n",
      "  title = LLMChain(llm=llm, prompt=title_prompt, output_key='title')\n"
     ]
    }
   ],
   "source": [
    "template = \"\"\"<s><|user|>\n",
    "Create a title for a story about {summary}. Only return the title.\n",
    "<|end|>\n",
    "<|assistant|>\n",
    "\"\"\"\n",
    "title_prompt = PromptTemplate(template=template, input_variables=['summary'])\n",
    "title = LLMChain(llm=llm, prompt=title_prompt, output_key='title')"
   ]
  },
  {
   "cell_type": "code",
   "execution_count": 37,
   "id": "829e6ba0",
   "metadata": {},
   "outputs": [
    {
     "name": "stderr",
     "output_type": "stream",
     "text": [
      "/Users/hassanraza/anaconda3/lib/python3.11/site-packages/llama_cpp/llama.py:1237: RuntimeWarning: Detected duplicate leading \"<s>\" in prompt, this will likely reduce response quality, consider removing it...\n",
      "  warnings.warn(\n"
     ]
    },
    {
     "data": {
      "text/plain": [
       "{'summary': 'a girl that lost her mother',\n",
       " 'title': ' \"Echoes of a Mother\\'s Love: A Girl\\'s Journey Through Loss\"'}"
      ]
     },
     "execution_count": 37,
     "metadata": {},
     "output_type": "execute_result"
    }
   ],
   "source": [
    "title.invoke({\"summary\": \"a girl that lost her mother\"})"
   ]
  },
  {
   "cell_type": "code",
   "execution_count": 38,
   "id": "e3ef8f33",
   "metadata": {},
   "outputs": [],
   "source": [
    "template=\"\"\"<s><|user|>\n",
    "Describe the main character of story about {summary} with the title {title}.\n",
    "User only two sentences. <|end|>\n",
    "<|assistant|>\n",
    "\"\"\"\n",
    "character_prompt=PromptTemplate(template=template, input_variables=['summary', 'title'])\n",
    "character=LLMChain(llm=llm, prompt=character_prompt, output_key='character')"
   ]
  },
  {
   "cell_type": "code",
   "execution_count": 39,
   "id": "1412ca62",
   "metadata": {},
   "outputs": [],
   "source": [
    "template=\"\"\"<s><|user|>\n",
    "Create a stroy about {summary} with the title {title}. The nain character is: {character}. Only return the \n",
    "story and it cannot be longer than one paragraph. <|end|> \n",
    "<|assistant|>\n",
    "\"\"\"\n",
    "story_prompt=PromptTemplate(template=template, input_variables=['summary', 'title', 'character'])\n",
    "story=LLMChain(llm=llm, prompt=story_prompt, output_key='story')"
   ]
  },
  {
   "cell_type": "code",
   "execution_count": 40,
   "id": "9c630c43",
   "metadata": {},
   "outputs": [
    {
     "name": "stderr",
     "output_type": "stream",
     "text": [
      "/Users/hassanraza/anaconda3/lib/python3.11/site-packages/llama_cpp/llama.py:1237: RuntimeWarning: Detected duplicate leading \"<s>\" in prompt, this will likely reduce response quality, consider removing it...\n",
      "  warnings.warn(\n",
      "/Users/hassanraza/anaconda3/lib/python3.11/site-packages/llama_cpp/llama.py:1237: RuntimeWarning: Detected duplicate leading \"<s>\" in prompt, this will likely reduce response quality, consider removing it...\n",
      "  warnings.warn(\n",
      "/Users/hassanraza/anaconda3/lib/python3.11/site-packages/llama_cpp/llama.py:1237: RuntimeWarning: Detected duplicate leading \"<s>\" in prompt, this will likely reduce response quality, consider removing it...\n",
      "  warnings.warn(\n"
     ]
    },
    {
     "data": {
      "text/plain": [
       "{'summary': 'a girl that lost her mother',\n",
       " 'title': ' \"Whispers of a Mother\\'s Love: A Tale of Healing\"',\n",
       " 'character': \" The main character, Lily, is a compassionate and resilient young girl who grapples with the loss of her mother while learning to navigate life without her guiding presence. As she embarks on a journey towards healing and self-discovery, Lily draws strength from cherished memories of her mother's love and wisdom that continue to guide her through difficult times.\",\n",
       " 'story': ' \"Whispers of a Mother\\'s Love: A Tale of Healing\" tells the story of Lily, a compassionate and resilient young girl who was forced to face the harsh reality of losing her mother. With each passing day without her guiding presence, Lily struggled with grief and confusion, but found solace in cherished memories that revealed the depths of her mother\\'s love and wisdom. As she embarked on a journey towards healing and self-discovery, Lily learned to draw strength from these whispers of her mother\\'s love – they became her guiding light through difficult times as she navigated life without her mother by her side. Through the power of these memories, Lily discovered that while her mother may no longer be physically present, her spirit and lessons lived on within her heart forever. This tale serves as a testament to the enduring impact of a mother\\'s love – even in the face of loss – and how it can help us find our way through life\\'s most challenging moments towards healing and growth.'}"
      ]
     },
     "execution_count": 40,
     "metadata": {},
     "output_type": "execute_result"
    }
   ],
   "source": [
    "llm_chain = title | character | story\n",
    "llm_chain.invoke(\"a girl that lost her mother\")"
   ]
  },
  {
   "cell_type": "markdown",
   "id": "e64fc342",
   "metadata": {},
   "source": [
    "##### Conversation Buffer"
   ]
  },
  {
   "cell_type": "code",
   "execution_count": null,
   "id": "9460df1d",
   "metadata": {},
   "outputs": [],
   "source": [
    "template=\"\"\"<s><|user|> Current Conversation: {chat_history}\n",
    "{input_prompt}<|end|>\n",
    "<|assistant|>\n",
    "\"\"\"\n",
    "prompt=PromptTemplate(\n",
    "    template=template,\n",
    "    input_variables=['input_prompt', 'chat_history']\n",
    ")"
   ]
  },
  {
   "cell_type": "code",
   "execution_count": null,
   "id": "f9262158",
   "metadata": {},
   "outputs": [],
   "source": [
    "memory = ConversationBufferMemory(memory_key=\"chat_history\")\n",
    "llm_chain = LLMChain(\n",
    "    prompt=prompt,\n",
    "    llm=llm,\n",
    "    memory=memory\n",
    ")"
   ]
  },
  {
   "cell_type": "code",
   "execution_count": null,
   "id": "4776f92f",
   "metadata": {},
   "outputs": [],
   "source": [
    "llm_chain.invoke({\"input_prompt\": \"Hi! My name is Hassan. What is 1 + 1?\"})"
   ]
  },
  {
   "cell_type": "code",
   "execution_count": null,
   "id": "08eeef98",
   "metadata": {},
   "outputs": [],
   "source": [
    "llm_chain.invoke({\"input_prompt\": \"What is my name?\"})"
   ]
  },
  {
   "cell_type": "markdown",
   "id": "be7ed70d",
   "metadata": {},
   "source": [
    "##### Summary Buffer"
   ]
  },
  {
   "cell_type": "code",
   "execution_count": null,
   "id": "9cd1b2ad",
   "metadata": {},
   "outputs": [],
   "source": [
    "summary_prompt_template = \"\"\"<s><|user|>Summarize the\n",
    "conversations and update with the new lines.\n",
    "\n",
    "Current summary\n",
    "{summary}\n",
    "\n",
    "new lines of conversation:\n",
    "{new_lines}\n",
    "\n",
    "New summary:<|end|>\n",
    "<|assistant|>\"\"\"\n",
    "summary_prompt=PromptTemplate(\n",
    "    input_variables=[\"new_lines\", \"summary\"],\n",
    "    template=summary_prompt_template\n",
    ")"
   ]
  },
  {
   "cell_type": "code",
   "execution_count": null,
   "id": "1e596baf",
   "metadata": {},
   "outputs": [],
   "source": [
    "memory = ConversationSummaryMemory(\n",
    "    llm=llm,\n",
    "    memory_key=\"chat_history\",\n",
    "    prompt=summary_prompt\n",
    ")"
   ]
  },
  {
   "cell_type": "code",
   "execution_count": null,
   "id": "b411c94a",
   "metadata": {},
   "outputs": [],
   "source": [
    "llm_chain=LLMChain(\n",
    "    prompt=prompt,\n",
    "    llm=llm,\n",
    "    memory\n",
    ")"
   ]
  },
  {
   "cell_type": "code",
   "execution_count": null,
   "id": "a5699e0a",
   "metadata": {},
   "outputs": [],
   "source": [
    "llm_chain.invoke({\n",
    "    \"input_prompt\": \"Hi! My name is Hassan, What is 1+1?\"\n",
    "})\n",
    "llm_chain.invoke({\n",
    "    \"input_propmt\": \"What is my name ?\" \n",
    "})"
   ]
  }
 ],
 "metadata": {
  "kernelspec": {
   "display_name": "Python 3 (ipykernel)",
   "language": "python",
   "name": "python3"
  },
  "language_info": {
   "codemirror_mode": {
    "name": "ipython",
    "version": 3
   },
   "file_extension": ".py",
   "mimetype": "text/x-python",
   "name": "python",
   "nbconvert_exporter": "python",
   "pygments_lexer": "ipython3",
   "version": "3.11.4"
  }
 },
 "nbformat": 4,
 "nbformat_minor": 5
}
