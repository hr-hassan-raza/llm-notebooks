{
 "cells": [
  {
   "cell_type": "markdown",
   "id": "d31197b4",
   "metadata": {},
   "source": [
    "### Music Recommendation\n",
    "This is example note book which shows how to recommend music using word embeddings. It uses Word2Vec to find songs with similar lyrics."
   ]
  },
  {
   "cell_type": "code",
   "execution_count": 21,
   "id": "3200cfd9",
   "metadata": {},
   "outputs": [],
   "source": [
    "import pandas as pd\n",
    "from urllib import request\n",
    "import numpy as np\n",
    "from gensim.models import Word2Vec"
   ]
  },
  {
   "cell_type": "code",
   "execution_count": 32,
   "id": "a929e170",
   "metadata": {},
   "outputs": [],
   "source": [
    "data = request.urlopen('https://storage.googleapis.com/maps-premium/dataset/yes_complete/train.txt')\n",
    "lines = data.read().decode(\"utf-8\").split('\\n')[2:] ## removing meta data from dataset\n",
    "playlists = [s.rstrip().split() for s in lines if len(s.split()) > 1]"
   ]
  },
  {
   "cell_type": "code",
   "execution_count": 33,
   "id": "ba61ef78",
   "metadata": {},
   "outputs": [],
   "source": [
    "songs_file = request.urlopen('https://storage.googleapis.com/maps-premium/dataset/yes_complete/song_hash.txt')\n",
    "songs_file = songs_file.read().decode(\"utf-8\").split('\\n') \n",
    "songs = [s.rstrip().split('\\t') for s in songs_file]\n",
    "songs_df = pd.DataFrame(data=songs, columns = ['id', 'title', 'artist'])\n",
    "songs_df = songs_df.set_index('id')"
   ]
  },
  {
   "cell_type": "code",
   "execution_count": 27,
   "id": "0c9101e5",
   "metadata": {},
   "outputs": [],
   "source": [
    "model = Word2Vec(playlists, vector_size=32, window=20, negative=50,min_count=1, workers=4)"
   ]
  },
  {
   "cell_type": "code",
   "execution_count": 28,
   "id": "809c4267",
   "metadata": {},
   "outputs": [],
   "source": [
    "def print_recommendations(song_id): \n",
    "    similar_songs = np.array(model.wv.most_similar(positive=str(song_id),topn=5))[:,0]\n",
    "    return songs_df.iloc[similar_songs]"
   ]
  },
  {
   "cell_type": "code",
   "execution_count": 34,
   "id": "ae8bbe19",
   "metadata": {},
   "outputs": [
    {
     "data": {
      "text/html": [
       "<div>\n",
       "<style scoped>\n",
       "    .dataframe tbody tr th:only-of-type {\n",
       "        vertical-align: middle;\n",
       "    }\n",
       "\n",
       "    .dataframe tbody tr th {\n",
       "        vertical-align: top;\n",
       "    }\n",
       "\n",
       "    .dataframe thead th {\n",
       "        text-align: right;\n",
       "    }\n",
       "</style>\n",
       "<table border=\"1\" class=\"dataframe\">\n",
       "  <thead>\n",
       "    <tr style=\"text-align: right;\">\n",
       "      <th></th>\n",
       "      <th>title</th>\n",
       "      <th>artist</th>\n",
       "    </tr>\n",
       "    <tr>\n",
       "      <th>id</th>\n",
       "      <th></th>\n",
       "      <th></th>\n",
       "    </tr>\n",
       "  </thead>\n",
       "  <tbody>\n",
       "    <tr>\n",
       "      <th>2849</th>\n",
       "      <td>Run To The Hills</td>\n",
       "      <td>Iron Maiden</td>\n",
       "    </tr>\n",
       "    <tr>\n",
       "      <th>5634</th>\n",
       "      <td>Mr. Brownstone</td>\n",
       "      <td>Guns N' Roses</td>\n",
       "    </tr>\n",
       "    <tr>\n",
       "      <th>3167</th>\n",
       "      <td>Unchained</td>\n",
       "      <td>Van Halen</td>\n",
       "    </tr>\n",
       "    <tr>\n",
       "      <th>5586</th>\n",
       "      <td>The Last In Line</td>\n",
       "      <td>Dio</td>\n",
       "    </tr>\n",
       "    <tr>\n",
       "      <th>2976</th>\n",
       "      <td>I Don't Know</td>\n",
       "      <td>Ozzy Osbourne</td>\n",
       "    </tr>\n",
       "  </tbody>\n",
       "</table>\n",
       "</div>"
      ],
      "text/plain": [
       "                  title         artist\n",
       "id                                    \n",
       "2849   Run To The Hills    Iron Maiden\n",
       "5634     Mr. Brownstone  Guns N' Roses\n",
       "3167          Unchained      Van Halen\n",
       "5586   The Last In Line            Dio\n",
       "2976       I Don't Know  Ozzy Osbourne"
      ]
     },
     "execution_count": 34,
     "metadata": {},
     "output_type": "execute_result"
    }
   ],
   "source": [
    "print_recommendations(2172) ## 2172 is the ID of the song for which we want to find similar recommendations."
   ]
  }
 ],
 "metadata": {
  "kernelspec": {
   "display_name": "Python 3 (ipykernel)",
   "language": "python",
   "name": "python3"
  },
  "language_info": {
   "codemirror_mode": {
    "name": "ipython",
    "version": 3
   },
   "file_extension": ".py",
   "mimetype": "text/x-python",
   "name": "python",
   "nbconvert_exporter": "python",
   "pygments_lexer": "ipython3",
   "version": "3.12.7"
  }
 },
 "nbformat": 4,
 "nbformat_minor": 5
}
